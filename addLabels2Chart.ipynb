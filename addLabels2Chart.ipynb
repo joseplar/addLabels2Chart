{
 "cells": [
  {
   "cell_type": "code",
   "execution_count": 1,
   "metadata": {
    "ExecuteTime": {
     "end_time": "2020-05-06T15:29:43.402887Z",
     "start_time": "2020-05-06T15:29:42.678940Z"
    },
    "hide_input": false,
    "run_control": {
     "marked": true
    },
    "slideshow": {
     "slide_type": "skip"
    }
   },
   "outputs": [],
   "source": [
    "import pandas as pd"
   ]
  },
  {
   "cell_type": "code",
   "execution_count": 7,
   "metadata": {
    "ExecuteTime": {
     "end_time": "2020-05-06T15:36:01.441362Z",
     "start_time": "2020-05-06T15:36:01.436908Z"
    },
    "run_control": {
     "marked": true
    },
    "slideshow": {
     "slide_type": "skip"
    }
   },
   "outputs": [],
   "source": [
    "dfSalesbyMonth = pd.DataFrame({'Month':['Jan','Feb','Mar','Apr','May','Jun','Jul','Aug','Sep','Oct','Nov','Dec'],\n",
    "                               'Sales':[1,2,3,4,5,6,7,8,9,10,11,12]})"
   ]
  },
  {
   "cell_type": "code",
   "execution_count": null,
   "metadata": {
    "ExecuteTime": {
     "start_time": "2020-05-06T16:28:55.640Z"
    },
    "run_control": {
     "marked": true
    },
    "slideshow": {
     "slide_type": "skip"
    }
   },
   "outputs": [],
   "source": [
    "def addLabels2BarChart(ax,type='h',space=0.05):\n",
    "    for patch in ax.patches:\n",
    "        if (type == 'h'):\n",
    "            value = patch.get_width()\n",
    "            x = patch.get_x()+value+space\n",
    "            y = patch.get_y()\n",
    "            align = 'left'\n",
    "        elif (type == 'v'):\n",
    "            value = patch.get_height()\n",
    "            x = patch.get_x()\n",
    "            y = patch.get_y()+value+space\n",
    "            align = 'center'\n",
    "        else:\n",
    "            break\n",
    "        \n",
    "        ax.text(x, y,value,ha=align, fontsize=8)\n",
    "    return None"
   ]
  },
  {
   "cell_type": "code",
   "execution_count": 38,
   "metadata": {
    "ExecuteTime": {
     "end_time": "2020-05-06T16:06:18.765754Z",
     "start_time": "2020-05-06T16:06:18.535025Z"
    },
    "run_control": {
     "marked": true
    },
    "slideshow": {
     "slide_type": "notes"
    }
   },
   "outputs": [
    {
     "data": {
      "image/png": "[encoded data removed]",
      "text/plain": [
       "<Figure size 432x288 with 1 Axes>"
      ]
     },
     "metadata": {
      "needs_background": "light"
     },
     "output_type": "display_data"
    }
   ],
   "source": [
    "ax = dfSalesbyMonth.plot.barh(x='Month',y='Sales',title=\"Sales by Month\")\n",
    "addLabels2BarChart(ax,'h')"
   ]
  },
  {
   "cell_type": "code",
   "execution_count": 39,
   "metadata": {
    "ExecuteTime": {
     "end_time": "2020-05-06T16:07:10.066476Z",
     "start_time": "2020-05-06T16:07:09.825182Z"
    },
    "run_control": {
     "marked": true
    },
    "slideshow": {
     "slide_type": "notes"
    }
   },
   "outputs": [
    {
     "data": {
      "image/png": "[encoded data removed]",
      "text/plain": [
       "<Figure size 432x288 with 1 Axes>"
      ]
     },
     "metadata": {
      "needs_background": "light"
     },
     "output_type": "display_data"
    }
   ],
   "source": [
    "ax = dfSalesbyMonth.plot.bar(x='Month',y='Sales',title=\"Sales by Month\")\n",
    "addLabels2BarChart(ax,'v')"
   ]
  },
  {
   "cell_type": "code",
   "execution_count": 27,
   "metadata": {
    "ExecuteTime": {
     "end_time": "2020-05-06T15:52:33.787206Z",
     "start_time": "2020-05-06T15:52:33.783358Z"
    }
   },
   "outputs": [
    {
     "data": {
      "text/plain": [
       "True"
      ]
     },
     "execution_count": 27,
     "metadata": {},
     "output_type": "execute_result"
    }
   ],
   "source": [
    "ax.get_in_layout()"
   ]
  }
 ],
 "metadata": {
  "celltoolbar": "Slideshow",
  "hide_input": false,
  "kernelspec": {
   "display_name": "Python [conda env:da_dev]",
   "language": "python",
   "name": "conda-env-da_dev-py"
  },
  "language_info": {
   "codemirror_mode": {
    "name": "ipython",
    "version": 3
   },
   "file_extension": ".py",
   "mimetype": "text/x-python",
   "name": "python",
   "nbconvert_exporter": "python",
   "pygments_lexer": "ipython3",
   "version": "3.7.3"
  },
  "toc": {
   "base_numbering": 1,
   "nav_menu": {},
   "number_sections": true,
   "sideBar": true,
   "skip_h1_title": false,
   "title_cell": "Table of Contents",
   "title_sidebar": "Contents",
   "toc_cell": false,
   "toc_position": {},
   "toc_section_display": true,
   "toc_window_display": false
  }
 },
 "nbformat": 4,
 "nbformat_minor": 2
}
